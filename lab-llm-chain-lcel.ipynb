{
 "cells": [
  {
   "cell_type": "markdown",
   "id": "9316da0d",
   "metadata": {},
   "source": [
    "# Lab | Simple LLM App with LCEL\n",
    "\n",
    "In this quickstart we'll show you how to build a simple LLM application with LangChain. This application will translate text from English into another language. This is a relatively simple LLM application - it's just a single LLM call plus some prompting. Still, this is a great way to get started with LangChain - a lot of features can be built with just some prompting and an LLM call!\n",
    "\n",
    "### LangSmith\n",
    "\n",
    "Many of the applications you build with LangChain will contain multiple steps with multiple invocations of LLM calls.\n",
    "As these applications get more and more complex, it becomes crucial to be able to inspect what exactly is going on inside your chain or agent.\n",
    "The best way to do this is with [LangSmith](https://smith.langchain.com).\n",
    "\n",
    "After you sign up at the link above, make sure to set your environment variables to start logging traces:\n",
    "\n",
    "```shell\n",
    "export LANGCHAIN_TRACING_V2=\"true\"\n",
    "export LANGCHAIN_API_KEY=\"...\"\n",
    "```\n",
    "\n",
    "Or, if in a notebook, you can set them with:\n",
    "\n",
    "```python\n",
    "import getpass\n",
    "import os\n",
    "\n",
    "os.environ[\"LANGCHAIN_TRACING_V2\"] = \"true\"\n",
    "os.environ[\"LANGCHAIN_API_KEY\"] = getpass.getpass()\n",
    "```"
   ]
  },
  {
   "cell_type": "markdown",
   "id": "4406c599",
   "metadata": {},
   "source": [
    "# 🔥 Stage 1: Model Setup"
   ]
  },
  {
   "cell_type": "code",
   "execution_count": 1,
   "id": "e4b41234",
   "metadata": {},
   "outputs": [],
   "source": [
    "# | output: false\n",
    "# | echo: false\n",
    "\n",
    "from langchain_openai import ChatOpenAI\n",
    "\n",
    "model = ChatOpenAI(model= \"gpt-4\")"
   ]
  },
  {
   "cell_type": "markdown",
   "id": "898b0c5d",
   "metadata": {},
   "source": [
    "# 💬 Stage 2: Message Definition\n",
    "## AI, you're a translator now 🧑‍🏫"
   ]
  },
  {
   "cell_type": "markdown",
   "id": "ca5642ff",
   "metadata": {},
   "source": [
    "Let's first use the model directly. `ChatModel`s are instances of LangChain \"Runnables\", which means they expose a standard interface for interacting with them. To just simply call the model, we can pass in a list of messages to the `.invoke` method."
   ]
  },
  {
   "cell_type": "code",
   "execution_count": 5,
   "id": "1b2481f0",
   "metadata": {},
   "outputs": [
    {
     "data": {
      "text/plain": [
       "AIMessage(content=\"Benvenuto a un Bootcamp di ingegneria dell'IA!\", additional_kwargs={'refusal': None}, response_metadata={'token_usage': {'completion_tokens': 17, 'prompt_tokens': 26, 'total_tokens': 43, 'completion_tokens_details': {'accepted_prediction_tokens': 0, 'audio_tokens': 0, 'reasoning_tokens': 0, 'rejected_prediction_tokens': 0}, 'prompt_tokens_details': {'audio_tokens': 0, 'cached_tokens': 0}}, 'model_name': 'gpt-4-0613', 'system_fingerprint': None, 'id': 'chatcmpl-BOoDn50aZyno1vS1lcLvNhTVywMaS', 'finish_reason': 'stop', 'logprobs': None}, id='run-209d4dbb-a588-4ec5-b4db-8576bc5bb887-0', usage_metadata={'input_tokens': 26, 'output_tokens': 17, 'total_tokens': 43, 'input_token_details': {'audio': 0, 'cache_read': 0}, 'output_token_details': {'audio': 0, 'reasoning': 0}})"
      ]
     },
     "execution_count": 5,
     "metadata": {},
     "output_type": "execute_result"
    }
   ],
   "source": [
    "from langchain_core.messages import HumanMessage, SystemMessage\n",
    "\n",
    "messages = [\n",
    "    SystemMessage(content=\"Translate the following from English into Italian\"), #Feel free to try something else here\n",
    "    HumanMessage(content= 'Welcome to an AI engineering Bootcamp!'),\n",
    "]\n",
    "\n",
    "# 🧠 Stage 3: Model Call\n",
    "model.invoke(messages)"
   ]
  },
  {
   "cell_type": "markdown",
   "id": "f83373db",
   "metadata": {},
   "source": [
    "If we've enable LangSmith, we can see that this run is logged to LangSmith, and can see the [LangSmith trace](https://smith.langchain.com/public/88baa0b2-7c1a-4d09-ba30-a47985dde2ea/r)"
   ]
  },
  {
   "cell_type": "markdown",
   "id": "32bd03ed",
   "metadata": {},
   "source": [
    "# 🧼 Stage 4: Parse Output\n",
    "\n",
    "Notice that the response from the model is an `AIMessage`. This contains a string response along with other metadata about the response. Oftentimes we may just want to work with the string response. We can parse out just this response by using a simple output parser.\n",
    "\n",
    "We first import the simple output parser.\n",
    "Clean up the response using a string output parser."
   ]
  },
  {
   "cell_type": "code",
   "execution_count": 6,
   "id": "d7ae9c58",
   "metadata": {},
   "outputs": [],
   "source": [
    "from langchain_core.output_parsers import StrOutputParser\n",
    "\n",
    "parser = StrOutputParser()"
   ]
  },
  {
   "cell_type": "markdown",
   "id": "c8016537",
   "metadata": {},
   "source": [
    "One way to use it is to use it by itself. For example, we could save the result of the language model call and then pass it to the parser."
   ]
  },
  {
   "cell_type": "code",
   "execution_count": 7,
   "id": "dad24b6d",
   "metadata": {},
   "outputs": [],
   "source": [
    "result = model.invoke(messages)\n",
    "\n",
    "# sends the system+human msgs to the model and gets a reply back\n",
    "\n",
    "# This is actual response from the model – like \"here’s your translated text\""
   ]
  },
  {
   "cell_type": "code",
   "execution_count": 8,
   "id": "efb8da87",
   "metadata": {},
   "outputs": [
    {
     "data": {
      "text/plain": [
       "\"Benvenuto in un Bootcamp di ingegneria dell'IA!\""
      ]
     },
     "execution_count": 8,
     "metadata": {},
     "output_type": "execute_result"
    }
   ],
   "source": [
    "parser.invoke(result)\n",
    "## takes the messy AI response and turns it into a clean string"
   ]
  },
  {
   "cell_type": "markdown",
   "id": "41fa526d",
   "metadata": {},
   "source": [
    "#  Stage 5: Chain Prep  💡 \n",
    "\n",
    "More commonly, we can \"chain\" the model with this output parser. This means this output parser will get called everytime in this chain. This chain takes on the input type of the language model (string or list of message) and returns the output type of the output parser (string).\n",
    "\n",
    "We can easily create the chain using the `|` operator. The `|` operator is used in LangChain to combine two elements together."
   ]
  },
  {
   "cell_type": "code",
   "execution_count": 9,
   "id": "9449cfa6",
   "metadata": {},
   "outputs": [],
   "source": [
    "chain =  model | parser"
   ]
  },
  {
   "cell_type": "code",
   "execution_count": 10,
   "id": "3e82f933",
   "metadata": {},
   "outputs": [
    {
     "data": {
      "text/plain": [
       "'Benvenuti a un Bootcamp di ingegneria AI!'"
      ]
     },
     "execution_count": 10,
     "metadata": {},
     "output_type": "execute_result"
    }
   ],
   "source": [
    "chain.invoke(messages)"
   ]
  },
  {
   "cell_type": "markdown",
   "id": "dd009096",
   "metadata": {},
   "source": [
    "If we now look at LangSmith, we can see that the chain has two steps: first the language model is called, then the result of that is passed to the output parser. We can see the [LangSmith trace]( https://smith.langchain.com/public/f1bdf656-2739-42f7-ac7f-0f1dd712322f/r)"
   ]
  },
  {
   "cell_type": "markdown",
   "id": "1ab8da31",
   "metadata": {},
   "source": [
    "# ⚡ Stage 6: Prompt Template Time\n",
    "\n",
    "Right now we are passing a list of messages directly into the language model. Where does this list of messages come from? Usually, it is constructed from a combination of user input and application logic. This application logic usually takes the raw user input and transforms it into a list of messages ready to pass to the language model. Common transformations include adding a system message or formatting a template with the user input.\n",
    "\n",
    "PromptTemplates are a concept in LangChain designed to assist with this transformation. They take in raw user input and return data (a prompt) that is ready to pass into a language model. \n",
    "\n",
    "Let's create a PromptTemplate here. It will take in two user variables:\n",
    "\n",
    "- `language`: The language to translate text into\n",
    "- `text`: The text to translate"
   ]
  },
  {
   "cell_type": "code",
   "execution_count": 11,
   "id": "3e73cc20",
   "metadata": {},
   "outputs": [],
   "source": [
    "from langchain_core.prompts import ChatPromptTemplate"
   ]
  },
  {
   "cell_type": "markdown",
   "id": "7e876c2a",
   "metadata": {},
   "source": [
    "# 🧩 Stage 8: Inject Dynamic Inputs\n",
    "\n",
    "First, let's create a string that we will format to be the system message:"
   ]
  },
  {
   "cell_type": "code",
   "execution_count": 12,
   "id": "fd75ecde",
   "metadata": {},
   "outputs": [],
   "source": [
    "system_template = \"Translate the following into {language}:\"\n",
    "\n",
    "# to translate any languages"
   ]
  },
  {
   "cell_type": "markdown",
   "id": "fedf6f13",
   "metadata": {},
   "source": [
    "We stackin' the system prompt AND the user input into a clean reusable prompt object."
   ]
  },
  {
   "cell_type": "code",
   "execution_count": 18,
   "id": "88e566f3",
   "metadata": {},
   "outputs": [],
   "source": [
    "prompt_template = ChatPromptTemplate.from_messages(\n",
    "    [(\"system\", system_template), (\"user\", \"{text}\")]\n",
    ")"
   ]
  },
  {
   "cell_type": "markdown",
   "id": "d9711ba6",
   "metadata": {},
   "source": [
    "The input to this prompt template is a dictionary. We can play around with this prompt template by itself to see what it does by itself"
   ]
  },
  {
   "cell_type": "code",
   "execution_count": 19,
   "id": "f781b3cb",
   "metadata": {},
   "outputs": [
    {
     "data": {
      "text/plain": [
       "ChatPromptValue(messages=[SystemMessage(content='Translate the following into italian:', additional_kwargs={}, response_metadata={}), HumanMessage(content='Good morning!', additional_kwargs={}, response_metadata={})])"
      ]
     },
     "execution_count": 19,
     "metadata": {},
     "output_type": "execute_result"
    }
   ],
   "source": [
    "result = prompt_template.invoke({\"language\": \"italian\", \"text\": \"Good morning!\"})\n",
    "\n",
    "result \n"
   ]
  },
  {
   "cell_type": "markdown",
   "id": "1a49ba9e",
   "metadata": {},
   "source": [
    "#  Stage 9: Turn Prompt into Messages\n",
    "\n",
    "We can see that it returns a `ChatPromptValue` that consists of two messages. If we want to access the messages directly we do:"
   ]
  },
  {
   "cell_type": "code",
   "execution_count": 15,
   "id": "2159b619",
   "metadata": {},
   "outputs": [
    {
     "data": {
      "text/plain": [
       "[SystemMessage(content='Translate the following into italian:', additional_kwargs={}, response_metadata={}),\n",
       " HumanMessage(content='Good morning!', additional_kwargs={}, response_metadata={})]"
      ]
     },
     "execution_count": 15,
     "metadata": {},
     "output_type": "execute_result"
    }
   ],
   "source": [
    "result.to_messages() # gives you [SystemMessage, HumanMessage]"
   ]
  },
  {
   "cell_type": "markdown",
   "id": "5a4267a8",
   "metadata": {},
   "source": [
    "# ⚙️ Stage 10: Chain Again (another placeholder)\n",
    "### Chaining together components with LCEL\n",
    "\n",
    "We can now combine this with the model and the output parser from above using the pipe (`|`) operator:"
   ]
  },
  {
   "cell_type": "code",
   "execution_count": 20,
   "id": "6c6beb4b",
   "metadata": {},
   "outputs": [],
   "source": [
    "chain = prompt_template | model | parser\n",
    "\n",
    "# It pipes your prompt 👉 into the model 👉 into the parser... All smooth.\n",
    "# Prompt → Model → Clean Output Parser\n",
    "# Easy to read, clean to run."
   ]
  },
  {
   "cell_type": "code",
   "execution_count": 22,
   "id": "3e45595a",
   "metadata": {},
   "outputs": [
    {
     "name": "stdout",
     "output_type": "stream",
     "text": [
      "Kodlamayı seviyorum!\n",
      "Bu defter ateş!\n"
     ]
    }
   ],
   "source": [
    "# Run the Whole Chain 💥\n",
    "print(chain.invoke({\"language\": \"Turkish\", \"text\": 'I love coding!'}))\n",
    "\n",
    "print(chain.invoke({\"language\": \"Turkish\", \"text\": 'This notebook is fire!'}))"
   ]
  },
  {
   "cell_type": "code",
   "execution_count": 23,
   "id": "411aad78",
   "metadata": {},
   "outputs": [
    {
     "name": "stdout",
     "output_type": "stream",
     "text": [
      "Collecting langserve[all]\n",
      "  Downloading langserve-0.3.1-py3-none-any.whl.metadata (40 kB)\n",
      "Collecting fastapi<1,>=0.90.1 (from langserve[all])\n",
      "  Using cached fastapi-0.115.12-py3-none-any.whl.metadata (27 kB)\n",
      "Requirement already satisfied: httpx<1.0,>=0.23.0 in c:\\users\\44758\\anaconda3\\lib\\site-packages (from langserve[all]) (0.27.0)\n",
      "Requirement already satisfied: langchain-core<0.4,>=0.3 in c:\\users\\44758\\anaconda3\\lib\\site-packages (from langserve[all]) (0.3.54)\n",
      "Requirement already satisfied: orjson<4,>=2 in c:\\users\\44758\\anaconda3\\lib\\site-packages (from langserve[all]) (3.10.16)\n",
      "Requirement already satisfied: pydantic<3.0,>=2.7 in c:\\users\\44758\\anaconda3\\lib\\site-packages (from langserve[all]) (2.8.2)\n",
      "Collecting sse-starlette<2.0.0,>=1.3.0 (from langserve[all])\n",
      "  Downloading sse_starlette-1.8.2-py3-none-any.whl.metadata (5.4 kB)\n",
      "Collecting starlette<0.47.0,>=0.40.0 (from fastapi<1,>=0.90.1->langserve[all])\n",
      "  Downloading starlette-0.46.2-py3-none-any.whl.metadata (6.2 kB)\n",
      "Requirement already satisfied: typing-extensions>=4.8.0 in c:\\users\\44758\\anaconda3\\lib\\site-packages (from fastapi<1,>=0.90.1->langserve[all]) (4.13.2)\n",
      "Requirement already satisfied: anyio in c:\\users\\44758\\anaconda3\\lib\\site-packages (from httpx<1.0,>=0.23.0->langserve[all]) (4.2.0)\n",
      "Requirement already satisfied: certifi in c:\\users\\44758\\anaconda3\\lib\\site-packages (from httpx<1.0,>=0.23.0->langserve[all]) (2025.1.31)\n",
      "Requirement already satisfied: httpcore==1.* in c:\\users\\44758\\anaconda3\\lib\\site-packages (from httpx<1.0,>=0.23.0->langserve[all]) (1.0.2)\n",
      "Requirement already satisfied: idna in c:\\users\\44758\\anaconda3\\lib\\site-packages (from httpx<1.0,>=0.23.0->langserve[all]) (3.10)\n",
      "Requirement already satisfied: sniffio in c:\\users\\44758\\anaconda3\\lib\\site-packages (from httpx<1.0,>=0.23.0->langserve[all]) (1.3.0)\n",
      "Requirement already satisfied: h11<0.15,>=0.13 in c:\\users\\44758\\anaconda3\\lib\\site-packages (from httpcore==1.*->httpx<1.0,>=0.23.0->langserve[all]) (0.14.0)\n",
      "Requirement already satisfied: langsmith<0.4,>=0.1.125 in c:\\users\\44758\\anaconda3\\lib\\site-packages (from langchain-core<0.4,>=0.3->langserve[all]) (0.3.30)\n",
      "Requirement already satisfied: tenacity!=8.4.0,<10.0.0,>=8.1.0 in c:\\users\\44758\\anaconda3\\lib\\site-packages (from langchain-core<0.4,>=0.3->langserve[all]) (8.2.3)\n",
      "Requirement already satisfied: jsonpatch<2.0,>=1.33 in c:\\users\\44758\\anaconda3\\lib\\site-packages (from langchain-core<0.4,>=0.3->langserve[all]) (1.33)\n",
      "Requirement already satisfied: PyYAML>=5.3 in c:\\users\\44758\\anaconda3\\lib\\site-packages (from langchain-core<0.4,>=0.3->langserve[all]) (6.0.2)\n",
      "Requirement already satisfied: packaging<25,>=23.2 in c:\\users\\44758\\anaconda3\\lib\\site-packages (from langchain-core<0.4,>=0.3->langserve[all]) (24.2)\n",
      "Requirement already satisfied: annotated-types>=0.4.0 in c:\\users\\44758\\anaconda3\\lib\\site-packages (from pydantic<3.0,>=2.7->langserve[all]) (0.6.0)\n",
      "Requirement already satisfied: pydantic-core==2.20.1 in c:\\users\\44758\\anaconda3\\lib\\site-packages (from pydantic<3.0,>=2.7->langserve[all]) (2.20.1)\n",
      "Collecting uvicorn (from sse-starlette<2.0.0,>=1.3.0->langserve[all])\n",
      "  Using cached uvicorn-0.34.2-py3-none-any.whl.metadata (6.5 kB)\n",
      "Requirement already satisfied: jsonpointer>=1.9 in c:\\users\\44758\\anaconda3\\lib\\site-packages (from jsonpatch<2.0,>=1.33->langchain-core<0.4,>=0.3->langserve[all]) (2.1)\n",
      "Requirement already satisfied: requests<3,>=2 in c:\\users\\44758\\anaconda3\\lib\\site-packages (from langsmith<0.4,>=0.1.125->langchain-core<0.4,>=0.3->langserve[all]) (2.32.3)\n",
      "Requirement already satisfied: requests-toolbelt<2.0.0,>=1.0.0 in c:\\users\\44758\\anaconda3\\lib\\site-packages (from langsmith<0.4,>=0.1.125->langchain-core<0.4,>=0.3->langserve[all]) (1.0.0)\n",
      "Requirement already satisfied: zstandard<0.24.0,>=0.23.0 in c:\\users\\44758\\anaconda3\\lib\\site-packages (from langsmith<0.4,>=0.1.125->langchain-core<0.4,>=0.3->langserve[all]) (0.23.0)\n",
      "Requirement already satisfied: click>=7.0 in c:\\users\\44758\\anaconda3\\lib\\site-packages (from uvicorn->sse-starlette<2.0.0,>=1.3.0->langserve[all]) (8.1.7)\n",
      "Requirement already satisfied: colorama in c:\\users\\44758\\anaconda3\\lib\\site-packages (from click>=7.0->uvicorn->sse-starlette<2.0.0,>=1.3.0->langserve[all]) (0.4.6)\n",
      "Requirement already satisfied: charset-normalizer<4,>=2 in c:\\users\\44758\\anaconda3\\lib\\site-packages (from requests<3,>=2->langsmith<0.4,>=0.1.125->langchain-core<0.4,>=0.3->langserve[all]) (3.4.1)\n",
      "Requirement already satisfied: urllib3<3,>=1.21.1 in c:\\users\\44758\\anaconda3\\lib\\site-packages (from requests<3,>=2->langsmith<0.4,>=0.1.125->langchain-core<0.4,>=0.3->langserve[all]) (2.4.0)\n",
      "Using cached fastapi-0.115.12-py3-none-any.whl (95 kB)\n",
      "Downloading sse_starlette-1.8.2-py3-none-any.whl (8.9 kB)\n",
      "Downloading langserve-0.3.1-py3-none-any.whl (1.2 MB)\n",
      "   ---------------------------------------- 0.0/1.2 MB ? eta -:--:--\n",
      "   ----------------- ---------------------- 0.5/1.2 MB 3.4 MB/s eta 0:00:01\n",
      "   ---------------------------------------- 1.2/1.2 MB 4.2 MB/s eta 0:00:00\n",
      "Downloading starlette-0.46.2-py3-none-any.whl (72 kB)\n",
      "Using cached uvicorn-0.34.2-py3-none-any.whl (62 kB)\n",
      "Installing collected packages: uvicorn, starlette, fastapi, sse-starlette, langserve\n",
      "Successfully installed fastapi-0.115.12 langserve-0.3.1 sse-starlette-1.8.2 starlette-0.46.2 uvicorn-0.34.2\n"
     ]
    }
   ],
   "source": [
    "!pip install \"langserve[all]\""
   ]
  },
  {
   "cell_type": "code",
   "execution_count": 24,
   "id": "dceeb2f6",
   "metadata": {},
   "outputs": [
    {
     "name": "stdout",
     "output_type": "stream",
     "text": [
      "Requirement already satisfied: langchain-openai in c:\\users\\44758\\anaconda3\\lib\\site-packages (0.3.14)\n",
      "Requirement already satisfied: langchain-core<1.0.0,>=0.3.53 in c:\\users\\44758\\anaconda3\\lib\\site-packages (from langchain-openai) (0.3.54)\n",
      "Requirement already satisfied: openai<2.0.0,>=1.68.2 in c:\\users\\44758\\anaconda3\\lib\\site-packages (from langchain-openai) (1.73.0)\n",
      "Requirement already satisfied: tiktoken<1,>=0.7 in c:\\users\\44758\\anaconda3\\lib\\site-packages (from langchain-openai) (0.9.0)\n",
      "Requirement already satisfied: langsmith<0.4,>=0.1.125 in c:\\users\\44758\\anaconda3\\lib\\site-packages (from langchain-core<1.0.0,>=0.3.53->langchain-openai) (0.3.30)\n",
      "Requirement already satisfied: tenacity!=8.4.0,<10.0.0,>=8.1.0 in c:\\users\\44758\\anaconda3\\lib\\site-packages (from langchain-core<1.0.0,>=0.3.53->langchain-openai) (8.2.3)\n",
      "Requirement already satisfied: jsonpatch<2.0,>=1.33 in c:\\users\\44758\\anaconda3\\lib\\site-packages (from langchain-core<1.0.0,>=0.3.53->langchain-openai) (1.33)\n",
      "Requirement already satisfied: PyYAML>=5.3 in c:\\users\\44758\\anaconda3\\lib\\site-packages (from langchain-core<1.0.0,>=0.3.53->langchain-openai) (6.0.2)\n",
      "Requirement already satisfied: packaging<25,>=23.2 in c:\\users\\44758\\anaconda3\\lib\\site-packages (from langchain-core<1.0.0,>=0.3.53->langchain-openai) (24.2)\n",
      "Requirement already satisfied: typing-extensions>=4.7 in c:\\users\\44758\\anaconda3\\lib\\site-packages (from langchain-core<1.0.0,>=0.3.53->langchain-openai) (4.13.2)\n",
      "Requirement already satisfied: pydantic<3.0.0,>=2.7.4 in c:\\users\\44758\\anaconda3\\lib\\site-packages (from langchain-core<1.0.0,>=0.3.53->langchain-openai) (2.8.2)\n",
      "Requirement already satisfied: anyio<5,>=3.5.0 in c:\\users\\44758\\anaconda3\\lib\\site-packages (from openai<2.0.0,>=1.68.2->langchain-openai) (4.2.0)\n",
      "Requirement already satisfied: distro<2,>=1.7.0 in c:\\users\\44758\\anaconda3\\lib\\site-packages (from openai<2.0.0,>=1.68.2->langchain-openai) (1.9.0)\n",
      "Requirement already satisfied: httpx<1,>=0.23.0 in c:\\users\\44758\\anaconda3\\lib\\site-packages (from openai<2.0.0,>=1.68.2->langchain-openai) (0.27.0)\n",
      "Requirement already satisfied: jiter<1,>=0.4.0 in c:\\users\\44758\\anaconda3\\lib\\site-packages (from openai<2.0.0,>=1.68.2->langchain-openai) (0.9.0)\n",
      "Requirement already satisfied: sniffio in c:\\users\\44758\\anaconda3\\lib\\site-packages (from openai<2.0.0,>=1.68.2->langchain-openai) (1.3.0)\n",
      "Requirement already satisfied: tqdm>4 in c:\\users\\44758\\anaconda3\\lib\\site-packages (from openai<2.0.0,>=1.68.2->langchain-openai) (4.67.1)\n",
      "Requirement already satisfied: regex>=2022.1.18 in c:\\users\\44758\\anaconda3\\lib\\site-packages (from tiktoken<1,>=0.7->langchain-openai) (2024.11.6)\n",
      "Requirement already satisfied: requests>=2.26.0 in c:\\users\\44758\\anaconda3\\lib\\site-packages (from tiktoken<1,>=0.7->langchain-openai) (2.32.3)\n",
      "Requirement already satisfied: idna>=2.8 in c:\\users\\44758\\anaconda3\\lib\\site-packages (from anyio<5,>=3.5.0->openai<2.0.0,>=1.68.2->langchain-openai) (3.10)\n",
      "Requirement already satisfied: certifi in c:\\users\\44758\\anaconda3\\lib\\site-packages (from httpx<1,>=0.23.0->openai<2.0.0,>=1.68.2->langchain-openai) (2025.1.31)\n",
      "Requirement already satisfied: httpcore==1.* in c:\\users\\44758\\anaconda3\\lib\\site-packages (from httpx<1,>=0.23.0->openai<2.0.0,>=1.68.2->langchain-openai) (1.0.2)\n",
      "Requirement already satisfied: h11<0.15,>=0.13 in c:\\users\\44758\\anaconda3\\lib\\site-packages (from httpcore==1.*->httpx<1,>=0.23.0->openai<2.0.0,>=1.68.2->langchain-openai) (0.14.0)\n",
      "Requirement already satisfied: jsonpointer>=1.9 in c:\\users\\44758\\anaconda3\\lib\\site-packages (from jsonpatch<2.0,>=1.33->langchain-core<1.0.0,>=0.3.53->langchain-openai) (2.1)\n",
      "Requirement already satisfied: orjson<4.0.0,>=3.9.14 in c:\\users\\44758\\anaconda3\\lib\\site-packages (from langsmith<0.4,>=0.1.125->langchain-core<1.0.0,>=0.3.53->langchain-openai) (3.10.16)\n",
      "Requirement already satisfied: requests-toolbelt<2.0.0,>=1.0.0 in c:\\users\\44758\\anaconda3\\lib\\site-packages (from langsmith<0.4,>=0.1.125->langchain-core<1.0.0,>=0.3.53->langchain-openai) (1.0.0)\n",
      "Requirement already satisfied: zstandard<0.24.0,>=0.23.0 in c:\\users\\44758\\anaconda3\\lib\\site-packages (from langsmith<0.4,>=0.1.125->langchain-core<1.0.0,>=0.3.53->langchain-openai) (0.23.0)\n",
      "Requirement already satisfied: annotated-types>=0.4.0 in c:\\users\\44758\\anaconda3\\lib\\site-packages (from pydantic<3.0.0,>=2.7.4->langchain-core<1.0.0,>=0.3.53->langchain-openai) (0.6.0)\n",
      "Requirement already satisfied: pydantic-core==2.20.1 in c:\\users\\44758\\anaconda3\\lib\\site-packages (from pydantic<3.0.0,>=2.7.4->langchain-core<1.0.0,>=0.3.53->langchain-openai) (2.20.1)\n",
      "Requirement already satisfied: charset-normalizer<4,>=2 in c:\\users\\44758\\anaconda3\\lib\\site-packages (from requests>=2.26.0->tiktoken<1,>=0.7->langchain-openai) (3.4.1)\n",
      "Requirement already satisfied: urllib3<3,>=1.21.1 in c:\\users\\44758\\anaconda3\\lib\\site-packages (from requests>=2.26.0->tiktoken<1,>=0.7->langchain-openai) (2.4.0)\n",
      "Requirement already satisfied: colorama in c:\\users\\44758\\anaconda3\\lib\\site-packages (from tqdm>4->openai<2.0.0,>=1.68.2->langchain-openai) (0.4.6)\n"
     ]
    }
   ],
   "source": [
    "!pip install langchain-openai"
   ]
  },
  {
   "cell_type": "markdown",
   "id": "0b19cecb",
   "metadata": {},
   "source": [
    "This is a simple example of using [LangChain Expression Language (LCEL)](/docs/concepts/#langchain-expression-language-lcel) to chain together LangChain modules. There are several benefits to this approach, including optimized streaming and tracing support.\n",
    "\n",
    "If we take a look at the LangSmith trace, we can see all three components show up in the [LangSmith trace](https://smith.langchain.com/public/bc49bec0-6b13-4726-967f-dbd3448b786d/r)."
   ]
  },
  {
   "cell_type": "markdown",
   "id": "a515ddd0",
   "metadata": {},
   "source": [
    "## Final Stage: Serving Your Chain with LangServe + Remote Access 🌍\n",
    "\n",
    "Now that we've built an application, we need to serve it. That's where LangServe comes in.\n",
    "LangServe helps developers deploy LangChain chains as a REST API. You do not need to use LangServe to use LangChain, but in this guide we'll show how you can deploy your app with LangServe.\n",
    "\n",
    "While the first part of this guide was intended to be run in a Jupyter Notebook or script, we will now move out of that. We will be creating a Python file and then interacting with it from the command line.\n",
    "\n",
    "Install with:\n",
    "```bash\n",
    "pip install \"langserve[all]\"\n",
    "```\n",
    "\n",
    "### Server\n",
    "\n",
    "To create a server for our application we'll make a `serve.py` file. This will contain our logic for serving our application. It consists of three things:\n",
    "1. The definition of our chain that we just built above\n",
    "2. Our FastAPI app\n",
    "3. A definition of a route from which to serve the chain, which is done with `langserve.add_routes`\n",
    "\n",
    "\n",
    "```python\n",
    "#!/usr/bin/env python\n",
    "from typing import List\n",
    "\n",
    "from fastapi import FastAPI\n",
    "from langchain_core.prompts import ChatPromptTemplate\n",
    "from langchain_core.output_parsers import StrOutputParser\n",
    "from langchain_openai import ChatOpenAI\n",
    "from langserve import add_routes\n",
    "\n",
    "# 1. Create prompt template\n",
    "system_template = \"Translate the following into {language}:\"\n",
    "prompt_template = ChatPromptTemplate.from_messages([\n",
    "    ('system', system_template),\n",
    "    ('user', '{text}')\n",
    "])\n",
    "\n",
    "# 2. Create model\n",
    "model = ChatOpenAI()\n",
    "\n",
    "# 3. Create parser\n",
    "parser = StrOutputParser()\n",
    "\n",
    "# 4. Create chain\n",
    "chain = prompt_template | model | parser\n",
    "\n",
    "\n",
    "# 4. App definition\n",
    "app = FastAPI(\n",
    "  title=\"LangChain Server\",\n",
    "  version=\"1.0\",\n",
    "  description=\"A simple API server using LangChain's Runnable interfaces\",\n",
    ")\n",
    "\n",
    "# 5. Adding chain route\n",
    "\n",
    "add_routes(\n",
    "    app,\n",
    "    chain,\n",
    "    path=\"/chain\",\n",
    ")\n",
    "\n",
    "if __name__ == \"__main__\":\n",
    "    import uvicorn\n",
    "\n",
    "    uvicorn.run(app, host=\"localhost\", port=8000)\n",
    "```\n",
    "\n",
    "And that's it! If we execute this file:\n",
    "```bash\n",
    "python serve.py\n",
    "```\n",
    "we should see our chain being served at [http://localhost:8000](http://localhost:8000).\n",
    "\n",
    "### Playground\n",
    "\n",
    "Every LangServe service comes with a simple [built-in UI](https://github.com/langchain-ai/langserve/blob/main/README.md#playground) for configuring and invoking the application with streaming output and visibility into intermediate steps.\n",
    "Head to [http://localhost:8000/chain/playground/](http://localhost:8000/chain/playground/) to try it out! Pass in the same inputs as before - `{\"language\": \"italian\", \"text\": \"hi\"}` - and it should respond same as before.\n",
    "\n",
    "### Client\n",
    "\n",
    "Now let's set up a client for programmatically interacting with our service. We can easily do this with the `[langserve.RemoteRunnable](/docs/langserve/#client)`.\n",
    "Using this, we can interact with the served chain as if it were running client-side."
   ]
  },
  {
   "cell_type": "code",
   "execution_count": null,
   "id": "85174643",
   "metadata": {},
   "outputs": [],
   "source": [
    "from langserve import RemoteRunnable\n",
    "\n",
    "remote_chain = RemoteRunnable(\"http://localhost:8000/chain/\")\n",
    "remote_chain.invoke({\"language\": \"italian\", \"text\": None})"
   ]
  },
  {
   "cell_type": "markdown",
   "id": "480b78a9",
   "metadata": {},
   "source": [
    "To learn more about the many other features of LangServe [head here](/docs/langserve)."
   ]
  },
  {
   "cell_type": "markdown",
   "id": "befdb168",
   "metadata": {},
   "source": [
    "## Conclusion\n",
    "\n",
    "That's it! In this tutorial you've learned how to create your first simple LLM application. You've learned how to work with language models, how to parse their outputs, how to create a prompt template, chaining them with LCEL, how to get great observability into chains you create with LangSmith, and how to deploy them with LangServe.\n",
    "\n",
    "This just scratches the surface of what you will want to learn to become a proficient AI Engineer. Luckily - we've got a lot of other resources!\n",
    "\n",
    "For further reading on the core concepts of LangChain, we've got detailed [Conceptual Guides](/docs/concepts).\n",
    "\n",
    "If you have more specific questions on these concepts, check out the following sections of the how-to guides:\n",
    "\n",
    "- [LangChain Expression Language (LCEL)](/docs/how_to/#langchain-expression-language-lcel)\n",
    "- [Prompt templates](/docs/how_to/#prompt-templates)\n",
    "- [Chat models](/docs/how_to/#chat-models)\n",
    "- [Output parsers](/docs/how_to/#output-parsers)\n",
    "- [LangServe](/docs/langserve/)\n",
    "\n",
    "And the LangSmith docs:\n",
    "\n",
    "- [LangSmith](https://docs.smith.langchain.com)"
   ]
  },
  {
   "cell_type": "code",
   "execution_count": null,
   "id": "a3d3e206",
   "metadata": {},
   "outputs": [],
   "source": []
  }
 ],
 "metadata": {
  "kernelspec": {
   "display_name": "base",
   "language": "python",
   "name": "python3"
  },
  "language_info": {
   "codemirror_mode": {
    "name": "ipython",
    "version": 3
   },
   "file_extension": ".py",
   "mimetype": "text/x-python",
   "name": "python",
   "nbconvert_exporter": "python",
   "pygments_lexer": "ipython3",
   "version": "3.12.7"
  }
 },
 "nbformat": 4,
 "nbformat_minor": 5
}
